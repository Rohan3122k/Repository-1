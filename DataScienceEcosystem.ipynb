{
 "cells": [
  {
   "cell_type": "markdown",
   "id": "fcd0578c-a538-4a6f-95b0-24382d9178a5",
   "metadata": {},
   "source": [
    "# Data science tools and Ecosystem"
   ]
  },
  {
   "cell_type": "markdown",
   "id": "9094a2df-24b6-47f7-b0bc-2dfc5ce9894b",
   "metadata": {},
   "source": [
    "## In this notebook, data science tools and ecosystem are summarized"
   ]
  },
  {
   "cell_type": "code",
   "execution_count": null,
   "id": "cee02967-1e8c-4f6a-9a5f-77dfa5431739",
   "metadata": {},
   "outputs": [],
   "source": [
    "### Some of the popular data science languages are - \n",
    "1. R\n",
    "2. Python\n",
    "3. Julia\n"
   ]
  },
  {
   "cell_type": "markdown",
   "id": "45c37afa-c843-404e-ae1e-5034a2cc02f8",
   "metadata": {},
   "source": [
    "### commonly used libraries in ds\n",
    "1. Jupyter\n",
    "2. R studio\n",
    "3. Github"
   ]
  },
  {
   "cell_type": "markdown",
   "id": "739d75b0-9d23-4b9f-b463-8e4426665ccf",
   "metadata": {
    "tags": []
   },
   "source": [
    "| ibm | microsoftazure | oracledatabase |\n",
    "---"
   ]
  },
  {
   "cell_type": "markdown",
   "id": "38b1a2d3-a052-4231-b7de-154d1adbf904",
   "metadata": {},
   "source": [
    "### Below are some arithematic expressions in Python"
   ]
  },
  {
   "cell_type": "code",
   "execution_count": 3,
   "id": "30a6997e-9e7f-4e4b-b0f6-b1347a7116aa",
   "metadata": {
    "tags": []
   },
   "outputs": [
    {
     "data": {
      "text/plain": [
       "17"
      ]
     },
     "execution_count": 3,
     "metadata": {},
     "output_type": "execute_result"
    }
   ],
   "source": [
    "# This code is to show arithmatic ops in Python\n",
    "(3*4)+5\n",
    "\n"
   ]
  },
  {
   "cell_type": "code",
   "execution_count": 4,
   "id": "51253fb4-3352-4640-8ebd-8f1a76937470",
   "metadata": {},
   "outputs": [
    {
     "data": {
      "text/plain": [
       "3"
      ]
     },
     "execution_count": 4,
     "metadata": {},
     "output_type": "execute_result"
    }
   ],
   "source": [
    "# converting minute into hours.\n",
    "200//60\n"
   ]
  },
  {
   "cell_type": "markdown",
   "id": "eba3740d-c6ed-42e6-9d0c-f022e8c0897d",
   "metadata": {},
   "source": [
    "### Some of the popular data science languages are - \n",
    "1. R\n",
    "2. Python\n",
    "3. Julia"
   ]
  },
  {
   "cell_type": "markdown",
   "id": "276cf236-46f1-4302-8c73-0e7f707a5840",
   "metadata": {
    "tags": []
   },
   "source": [
    "**OBJECTIVE**\n",
    "* Kernel\n",
    "* MAX\n",
    "* RUBY"
   ]
  },
  {
   "cell_type": "markdown",
   "id": "e14a2f49-2ec6-4e42-bdd2-4d268458f205",
   "metadata": {},
   "source": [
    "## Rohan Verma"
   ]
  },
  {
   "cell_type": "code",
   "execution_count": null,
   "id": "6803c7c6-8340-4a21-8ec8-c1efc9ab8de8",
   "metadata": {},
   "outputs": [],
   "source": []
  }
 ],
 "metadata": {
  "kernelspec": {
   "display_name": "Python",
   "language": "python",
   "name": "conda-env-python-py"
  },
  "language_info": {
   "codemirror_mode": {
    "name": "ipython",
    "version": 3
   },
   "file_extension": ".py",
   "mimetype": "text/x-python",
   "name": "python",
   "nbconvert_exporter": "python",
   "pygments_lexer": "ipython3",
   "version": "3.7.12"
  }
 },
 "nbformat": 4,
 "nbformat_minor": 5
}
